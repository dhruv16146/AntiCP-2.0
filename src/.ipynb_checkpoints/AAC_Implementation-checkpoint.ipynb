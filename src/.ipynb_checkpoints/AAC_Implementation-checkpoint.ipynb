{
 "cells": [
  {
   "cell_type": "code",
   "execution_count": null,
   "metadata": {},
   "outputs": [],
   "source": [
    "import os"
   ]
  },
  {
   "cell_type": "code",
   "execution_count": 2,
   "metadata": {},
   "outputs": [],
   "source": [
    "def aac_nt(seq,N):\n",
    "    std = list(\"ACDEFGHIKLMNPQRSTVWY\")\n",
    "    seq = seq.upper()\n",
    "    sub_str= seq[0:N]\n",
    "    aacnt=[]\n",
    "    for i in std:\n",
    "        counter = seq.count(i) \n",
    "        aacnt+=[((counter*1.0)/N)*100]\n",
    "    return aacnt\n",
    "    "
   ]
  },
  {
   "cell_type": "code",
   "execution_count": 3,
   "metadata": {},
   "outputs": [],
   "source": [
    "def aac_ct(seq,N):\n",
    "    std = list(\"ACDEFGHIKLMNPQRSTVWY\")\n",
    "    seq = seq.upper()\n",
    "    sub_str= seq[-N:]\n",
    "    aacct=[]\n",
    "    for i in std:\n",
    "        counter = seq.count(i) \n",
    "        aacct+=[((counter*1.0)/N)*100]\n",
    "    return aacct"
   ]
  },
  {
   "cell_type": "code",
   "execution_count": null,
   "metadata": {},
   "outputs": [],
   "source": []
  }
 ],
 "metadata": {
  "kernelspec": {
   "display_name": "Python 3",
   "language": "python",
   "name": "python3"
  },
  "language_info": {
   "codemirror_mode": {
    "name": "ipython",
    "version": 3
   },
   "file_extension": ".py",
   "mimetype": "text/x-python",
   "name": "python",
   "nbconvert_exporter": "python",
   "pygments_lexer": "ipython3",
   "version": "3.6.3"
  }
 },
 "nbformat": 4,
 "nbformat_minor": 2
}
