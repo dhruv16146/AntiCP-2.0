{
 "cells": [
  {
   "cell_type": "code",
   "execution_count": 13,
   "metadata": {},
   "outputs": [],
   "source": [
    "import os\n",
    "import numpy as np"
   ]
  },
  {
   "cell_type": "code",
   "execution_count": 48,
   "metadata": {},
   "outputs": [],
   "source": [
    "def aac_gen(seq,option,x,y):\n",
    "    std = list(\"ACDEFGHIKLMNPQRSTVWY\")\n",
    "    seq = seq.upper()\n",
    "    aac=[]\n",
    "    if option=='Normal':\n",
    "        seq=seq\n",
    "    elif option=='N':\n",
    "        seq=seq[0:x]\n",
    "    elif option=='C':\n",
    "        seq=seq[-x:][::-1]\n",
    "    elif option=='NC':\n",
    "        seq=seq[0:x]+seq[-y:][::-1]\n",
    "    for i in std:\n",
    "        counter = seq.count(i) \n",
    "        aac+=[((counter*1.0)/len(seq))*100]\n",
    "    return aac            "
   ]
  },
  {
   "cell_type": "code",
   "execution_count": 45,
   "metadata": {},
   "outputs": [],
   "source": [
    "def dpc_gen(seq,option,x,y):\n",
    "    std = list(\"ACDEFGHIKLMNPQRSTVWY\")\n",
    "    seq=seq.upper()\n",
    "    dpc=[]\n",
    "    if option=='Normal':\n",
    "        seq=seq\n",
    "    elif option=='N':\n",
    "        seq=seq[0:x]\n",
    "    elif option=='C':\n",
    "        seq=seq[-x:0][::-1]\n",
    "    elif option=='NC':\n",
    "        seq=seq[0:x]+seq[-y:][::-1]\n",
    "    for j in std:\n",
    "        for k in std:\n",
    "            temp  = j+k\n",
    "            count = seq.count(temp)\n",
    "            dpc+=[((count*1.0)/(len(seq)-1))*100]\n",
    "    return dpc\n",
    "            \n",
    "            \n",
    "            "
   ]
  },
  {
   "cell_type": "code",
   "execution_count": 44,
   "metadata": {},
   "outputs": [],
   "source": [
    "def bin_aac(seq,option,x=None,y=None):\n",
    "    amino_acids=list(\"ACDEFGHIKLMNPQRSTVWY\")\n",
    "    Dict={}\n",
    "    for i,j in enumerate(amino_acids):\n",
    "        Dict[j]=i\n",
    "    seq=seq.upper()\n",
    "    lis=np.asarray([])\n",
    "    if option=='Normal':\n",
    "        seq=seq\n",
    "    elif option=='N':\n",
    "        seq=seq[0:x]\n",
    "    elif option=='C':\n",
    "        seq=seq[-x:0][::-1]\n",
    "    elif option=='NC':\n",
    "        seq=seq[0:x]+seq[-y:][::-1]\n",
    "    for i in seq:\n",
    "        a=np.zeros(len(amino_acids))    \n",
    "        a[Dict[i]]=1\n",
    "        lis=np.append(lis,a)\n",
    "    return lis"
   ]
  },
  {
   "cell_type": "code",
   "execution_count": null,
   "metadata": {},
   "outputs": [],
   "source": []
  },
  {
   "cell_type": "code",
   "execution_count": null,
   "metadata": {},
   "outputs": [],
   "source": []
  }
 ],
 "metadata": {
  "kernelspec": {
   "display_name": "Python 3",
   "language": "python",
   "name": "python3"
  },
  "language_info": {
   "codemirror_mode": {
    "name": "ipython",
    "version": 3
   },
   "file_extension": ".py",
   "mimetype": "text/x-python",
   "name": "python",
   "nbconvert_exporter": "python",
   "pygments_lexer": "ipython3",
   "version": "3.6.3"
  }
 },
 "nbformat": 4,
 "nbformat_minor": 2
}
