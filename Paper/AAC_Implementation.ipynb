{
 "cells": [
  {
   "cell_type": "code",
   "execution_count": 9,
   "metadata": {},
   "outputs": [],
   "source": [
    "import os"
   ]
  },
  {
   "cell_type": "code",
   "execution_count": 10,
   "metadata": {},
   "outputs": [],
   "source": [
    "def aac(seq):\n",
    "    std = list(\"ACDEFGHIKLMNPQRSTVWY\")\n",
    "    seq = seq.upper()\n",
    "    sub_str= seq\n",
    "    aac=[]\n",
    "    for i in std:\n",
    "        counter = sub_str.count(i) \n",
    "        aac+=[((counter*1.0)/len(seq))*100]\n",
    "    return aac\n",
    "    "
   ]
  },
  {
   "cell_type": "code",
   "execution_count": 5,
   "metadata": {},
   "outputs": [],
   "source": [
    "def aac_nt(seq,N):\n",
    "    std = list(\"ACDEFGHIKLMNPQRSTVWY\")\n",
    "    seq = seq.upper()\n",
    "    sub_str= seq[0:N]\n",
    "    aacnt=[]\n",
    "    for i in std:\n",
    "        counter = sub_str.count(i) \n",
    "        aacnt+=[((counter*1.0)/N)*100]\n",
    "    return aacnt\n",
    "    "
   ]
  },
  {
   "cell_type": "code",
   "execution_count": 7,
   "metadata": {},
   "outputs": [],
   "source": [
    "def aac_ct(seq,N):\n",
    "    std = list(\"ACDEFGHIKLMNPQRSTVWY\")\n",
    "    seq = seq.upper()\n",
    "    sub_str= seq[-N:]\n",
    "    aacct=[]\n",
    "    for i in std:\n",
    "        counter = sub_str.count(i) \n",
    "        aacct+=[((counter*1.0)/N)*100]\n",
    "    return aacct"
   ]
  },
  {
   "cell_type": "code",
   "execution_count": 8,
   "metadata": {},
   "outputs": [],
   "source": [
    "def aac_nct(seq,x,y):\n",
    "    std = list(\"ACDEFGHIKLMNPQRSTVWY\")\n",
    "    seq = seq.upper()\n",
    "    sub_str1= seq[0:x]\n",
    "    sub_str2=seq[-y:]\n",
    "    finalstr=sub_str1+sub_str2\n",
    "    aacnct=[]\n",
    "    for i in std:\n",
    "        counter = finalstr.count(i) \n",
    "        aacnct+=[((counter*1.0)/N)*100]\n",
    "    return aacct\n",
    "    "
   ]
  },
  {
   "cell_type": "code",
   "execution_count": null,
   "metadata": {},
   "outputs": [],
   "source": [
    "\n",
    "    "
   ]
  }
 ],
 "metadata": {
  "kernelspec": {
   "display_name": "Python 3",
   "language": "python",
   "name": "python3"
  },
  "language_info": {
   "codemirror_mode": {
    "name": "ipython",
    "version": 3
   },
   "file_extension": ".py",
   "mimetype": "text/x-python",
   "name": "python",
   "nbconvert_exporter": "python",
   "pygments_lexer": "ipython3",
   "version": "3.6.3"
  }
 },
 "nbformat": 4,
 "nbformat_minor": 2
}
