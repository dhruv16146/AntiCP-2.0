{
 "cells": [
  {
   "cell_type": "code",
   "execution_count": 1,
   "metadata": {},
   "outputs": [
    {
     "name": "stderr",
     "output_type": "stream",
     "text": [
      "/home/krkd/anaconda3/lib/python3.6/site-packages/sklearn/ensemble/weight_boosting.py:29: DeprecationWarning: numpy.core.umath_tests is an internal NumPy module and should not be imported. It will be removed in a future NumPy release.\n",
      "  from numpy.core.umath_tests import inner1d\n"
     ]
    }
   ],
   "source": [
    "import pandas as pd\n",
    "import numpy as np\n",
    "from sklearn.model_selection import GridSearchCV\n",
    "from sklearn.svm import SVC\n",
    "from sklearn.neighbors import KNeighborsClassifier\n",
    "from sklearn.tree import DecisionTreeClassifier\n",
    "from sklearn.ensemble import RandomForestClassifier\n",
    "from sklearn.neural_network import MLPClassifier\n",
    "from sklearn.model_selection import KFold\n",
    "from sklearn.model_selection import train_test_split\n",
    "from sklearn.metrics import accuracy_score\n",
    "from sklearn.metrics import matthews_corrcoef\n",
    "from sklearn.metrics import classification_report\n",
    "from sklearn.metrics import roc_auc_score\n",
    "from sklearn.metrics import cohen_kappa_score\n",
    "import copy\n",
    "from sklearn.metrics import confusion_matrix\n",
    "from features_general import aac_gen,dpc_gen,bin_aac\n",
    "from sklearn.linear_model import RidgeClassifier\n",
    "from sklearn.ensemble import ExtraTreesClassifier \n",
    "import pickle\n",
    "from sklearn.model_selection import cross_validate\n",
    "import warnings\n",
    "from sklearn.metrics import fbeta_score, make_scorer\n",
    "import os\n",
    "import sys\n",
    "warnings.filterwarnings('ignore')"
   ]
  },
  {
   "cell_type": "code",
   "execution_count": 2,
   "metadata": {},
   "outputs": [],
   "source": [
    "def getVector(line,option1,option2,x=None,y=None):\n",
    "    if option1=='aac':\n",
    "        return aac_gen(line,option2,x,y)\n",
    "    elif option1=='dpc':\n",
    "        return dpc_gen(line,option2,x,y)\n",
    "    elif option1=='bin':\n",
    "        return bin_aac(line,option2,x,y)"
   ]
  },
  {
   "cell_type": "code",
   "execution_count": 3,
   "metadata": {},
   "outputs": [],
   "source": [
    "def getXYforfeature(line,option1,option2,x=None,y=None):\n",
    "    X=[]\n",
    "    Y=[]\n",
    "    X+=[getVector(line,option1,option2,x,y)]\n",
    "    Y+=[+1]\n",
    "    return X,Y"
   ]
  },
  {
   "cell_type": "code",
   "execution_count": 4,
   "metadata": {},
   "outputs": [],
   "source": [
    "def adjusted_classes(y_scores, t):\n",
    "    return [1 if y >= t else -1 for y in y_scores]"
   ]
  },
  {
   "cell_type": "code",
   "execution_count": 5,
   "metadata": {},
   "outputs": [],
   "source": [
    "def Perform_testing(clf,name,X,Y,t):\n",
    "    Y_test=Y\n",
    "    Y_pred=clf.predict(X)\n",
    "    Y_scores=[]\n",
    "    if hasattr(clf,'decision_function'):\n",
    "        Y_scores=clf.decision_function(X)\n",
    "    else:\n",
    "        Y_scores=clf.predict_proba(X)[:,1]\n",
    "    Y_pred = adjusted_classes(Y_scores,t)\n",
    "    return Y_pred "
   ]
  },
  {
   "cell_type": "code",
   "execution_count": 6,
   "metadata": {},
   "outputs": [],
   "source": [
    "def load_models_run_test(option,root,X,Y):\n",
    "    path=root\n",
    "    flag=0\n",
    "    if option=='aac':\n",
    "        path+='/aac_models/'\n",
    "    elif option[0:3]=='aac':\n",
    "        flag=1\n",
    "        path+='/aac_models/'\n",
    "    elif option=='dpc':\n",
    "        path+='/dpc_models/'\n",
    "    elif option[0:3]=='dpc':\n",
    "        flag=1\n",
    "        path+='/dpc_models/'\n",
    "    elif option=='bin_n5':\n",
    "        path+='/bin_n5_models/'\n",
    "    elif option=='bin_n10':\n",
    "        path+='/bin_n10_models/'\n",
    "    elif option=='bin_n15':\n",
    "        path+='/bin_n15_models/'\n",
    "    elif option=='bin_c5':\n",
    "        path+='/bin_c5_models/'\n",
    "    elif option=='bin_c10':\n",
    "        path+='/bin_c10_models/'\n",
    "    elif option=='bin_c15':\n",
    "        path+='/bin_c15_models/'\n",
    "    elif option=='bin_nc5':\n",
    "        path+='/bin_nc5_models/'\n",
    "    elif option=='bin_nc10':\n",
    "        path+='/bin_nc10_models/'\n",
    "    elif option=='bin_nc15':\n",
    "        path+='/bin_nc15_models/'\n",
    "    \n",
    "    if flag==1:\n",
    "        clf2 = pickle.load(open(path + 'svm_' + option + '.pickle','rb'))\n",
    "        return [clf2.best_estimator_]\n",
    "        \n",
    "    #Load SVM\n",
    "    clf2 = pickle.load(open(path + 'svm_' + option + '.pickle','rb'))\n",
    "    \n",
    "    return [clf2.best_estimator_]\n",
    "        \n",
    "    "
   ]
  },
  {
   "cell_type": "code",
   "execution_count": null,
   "metadata": {},
   "outputs": [],
   "source": [
    "line=input()\n",
    "option1=input('choose b/w aac dpc bin')\n",
    "option2=input('choose b/w Normal, N, C, NC')\n",
    "option3=input('choose b/w aac/aac_nx/aac_cx/aac_ncx/bin_n5/bin_c5/bin_nc5 and so on')\n",
    "x=int(input('Enter N terminus value'))\n",
    "y=int(input('Enter C terminus value'))\n",
    "threshold=float(input())\n",
    "experimental=input('Choose 0 for experimental and 1 for random')"
   ]
  },
  {
   "cell_type": "code",
   "execution_count": 18,
   "metadata": {},
   "outputs": [
    {
     "name": "stdout",
     "output_type": "stream",
     "text": [
      "Belongs to :\n",
      "Negative Class\n"
     ]
    }
   ],
   "source": [
    "root1='./ACPs and non-ACPS'\n",
    "if experimental==0:\n",
    "    root1='./ACPs and non-ACPS'\n",
    "else:\n",
    "    root1='./ACPs and random peptides'\n",
    "X,Y=getXYforfeature(line,option1,option2,x,y)\n",
    "[clf]=load_models_run_test(option3,root1,X,Y)\n",
    "print(\"Belongs to :\")\n",
    "t=Perform_testing(clf,'svm',X,Y,threshold)\n",
    "\n",
    "if t[0]==-1:\n",
    "    print(\"Negative Class\")\n",
    "else:\n",
    "    print(\"Positive Class\")"
   ]
  }
 ],
 "metadata": {
  "kernelspec": {
   "display_name": "Python 3",
   "language": "python",
   "name": "python3"
  },
  "language_info": {
   "codemirror_mode": {
    "name": "ipython",
    "version": 3
   },
   "file_extension": ".py",
   "mimetype": "text/x-python",
   "name": "python",
   "nbconvert_exporter": "python",
   "pygments_lexer": "ipython3",
   "version": "3.6.3"
  }
 },
 "nbformat": 4,
 "nbformat_minor": 2
}
